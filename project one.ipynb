{
 "metadata": {
  "language_info": {
   "codemirror_mode": {
    "name": "ipython",
    "version": 3
   },
   "file_extension": ".py",
   "mimetype": "text/x-python",
   "name": "python",
   "nbconvert_exporter": "python",
   "pygments_lexer": "ipython3",
   "version": "3.7.6-final"
  },
  "orig_nbformat": 2,
  "kernelspec": {
   "name": "python3",
   "display_name": "Python 3",
   "language": "python"
  }
 },
 "nbformat": 4,
 "nbformat_minor": 2,
 "cells": [
  {
   "cell_type": "code",
   "execution_count": 2,
   "metadata": {},
   "outputs": [
    {
     "output_type": "stream",
     "name": "stderr",
     "text": [
      "[INFO   ] [Logger      ] Record log in C:\\Users\\user01\\.kivy\\logs\\kivy_21-01-22_12.txt\n",
      "[INFO   ] [deps        ] Successfully imported \"kivy_deps.gstreamer\" 0.1.18\n",
      "[INFO   ] [deps        ] Successfully imported \"kivy_deps.angle\" 0.1.10\n",
      "[INFO   ] [deps        ] Successfully imported \"kivy_deps.glew\" 0.1.12\n",
      "[INFO   ] [deps        ] Successfully imported \"kivy_deps.sdl2\" 0.1.23\n",
      "[INFO   ] [Kivy        ] v1.11.1\n",
      "[INFO   ] [Kivy        ] Installed at \"C:\\ProgramData\\Anaconda3\\lib\\site-packages\\kivy\\__init__.py\"\n",
      "[INFO   ] [Python      ] v3.7.6 (default, Jan  8 2020, 20:23:39) [MSC v.1916 64 bit (AMD64)]\n",
      "[INFO   ] [Python      ] Interpreter at \"C:\\ProgramData\\Anaconda3\\python.exe\"\n",
      "[INFO   ] [Factory     ] 184 symbols loaded\n",
      "[INFO   ] [Image       ] Providers: img_sdl2 (img_tex, img_dds, img_ffpyplayer, img_pil, img_gif ignored)\n",
      "[INFO   ] [Text        ] Provider: pil(['text_sdl2'] ignored)\n"
     ]
    }
   ],
   "source": [
    "import os\n",
    "os.environ['KIVY_TEXT'] = 'pil'\n",
    "os.environ['KIVY_AUDIO'] = 'sdl2'\n",
    "os.environ['KIVY_VIDEO'] = 'ffmpeg'\n",
    "os.environ['KIVY_IMAGE'] = 'sdl2'\n",
    "os.environ['KIVY_CLIPBOARD'] = 'sdl2'\n",
    "os.environ['KIVY_EVENTLOOP'] = 'asyncio'\n",
    "\n",
    "import kivy \n",
    "from kivy.config import Config\n",
    "Config.set('postproc', 'retain_time', '50')\n",
    "Config.write()\n",
    "from kivy.app import App\n",
    "import cProfile\n",
    "from kivy.uix.label import Label\n",
    "from kivy.uix.widget import Widget \n",
    "from kivy.uix.gridlayout import GridLayout\n",
    "from kivy.uix.textinput import TextInput\n",
    "from kivy.uix.button import Button\n",
    "from kivy.uix.vkeyboard import VKeyboard\n"
   ]
  },
  {
   "cell_type": "code",
   "execution_count": 2,
   "metadata": {},
   "outputs": [],
   "source": [
    "from sklearn.datasets import load_breast_cancer\n",
    "from sklearn.linear_model import LinearRegression\n",
    "from sklearn import logger\n",
    "import numpy as np\n",
    "import matplotlib.pyplot as plt\n",
    "from sklearn.metrics import r2_score, matthews_corrcoef, mean_squared_error \n",
    "from sklearn.model_selection import train_test_split\n",
    "import tkinter as tk\n",
    "from matplotlib.backends.backend_tkagg import FigureCanvasTkAgg"
   ]
  },
  {
   "cell_type": "code",
   "execution_count": 41,
   "metadata": {},
   "outputs": [
    {
     "output_type": "execute_result",
     "data": {
      "text/plain": [
       "<module 'tkinter' from 'C:\\\\ProgramData\\\\Anaconda3\\\\lib\\\\tkinter\\\\__init__.py'>"
      ]
     },
     "metadata": {},
     "execution_count": 41
    }
   ],
   "source": []
  },
  {
   "cell_type": "code",
   "execution_count": 5,
   "metadata": {},
   "outputs": [],
   "source": [
    "df = load_breast_cancer()\n",
    "lr = LinearRegression()\n",
    "df_x = df.data[:, np.newaxis, 2] # using only one feature of the data\n",
    "x_train = df_x[:-100]\n",
    "x_test = df_x[-100:]\n",
    "# the targets\n",
    "y_train = df.target[:-100]\n",
    "y_test = df.target[-100:]\n",
    "y_train.size\n",
    "y_test.size\n",
    "\n",
    "model = lr.fit(x_train, y_train)\n",
    "prediction = lr.predict(x_test)"
   ]
  },
  {
   "cell_type": "code",
   "execution_count": 3,
   "metadata": {},
   "outputs": [
    {
     "output_type": "error",
     "ename": "NameError",
     "evalue": "name 'prediction' is not defined",
     "traceback": [
      "\u001b[1;31m---------------------------------------------------------------------------\u001b[0m",
      "\u001b[1;31mNameError\u001b[0m                                 Traceback (most recent call last)",
      "\u001b[1;32m<ipython-input-3-7b0f5d0cfa54>\u001b[0m in \u001b[0;36m<module>\u001b[1;34m\u001b[0m\n\u001b[0;32m     13\u001b[0m         \u001b[0mself\u001b[0m\u001b[1;33m.\u001b[0m\u001b[0madd_widget\u001b[0m\u001b[1;33m(\u001b[0m\u001b[0mself\u001b[0m\u001b[1;33m.\u001b[0m\u001b[0msb\u001b[0m\u001b[1;33m)\u001b[0m\u001b[1;33m\u001b[0m\u001b[1;33m\u001b[0m\u001b[0m\n\u001b[0;32m     14\u001b[0m \u001b[1;33m\u001b[0m\u001b[0m\n\u001b[1;32m---> 15\u001b[1;33m \u001b[1;32mclass\u001b[0m \u001b[0mSchistoPredict\u001b[0m\u001b[1;33m(\u001b[0m\u001b[0mApp\u001b[0m\u001b[1;33m)\u001b[0m\u001b[1;33m:\u001b[0m\u001b[1;33m\u001b[0m\u001b[1;33m\u001b[0m\u001b[0m\n\u001b[0m\u001b[0;32m     16\u001b[0m         \u001b[0mpressed\u001b[0m \u001b[1;33m=\u001b[0m \u001b[0mprediction\u001b[0m\u001b[1;33m\u001b[0m\u001b[1;33m\u001b[0m\u001b[0m\n\u001b[0;32m     17\u001b[0m \u001b[1;33m\u001b[0m\u001b[0m\n",
      "\u001b[1;32m<ipython-input-3-7b0f5d0cfa54>\u001b[0m in \u001b[0;36mSchistoPredict\u001b[1;34m()\u001b[0m\n\u001b[0;32m     14\u001b[0m \u001b[1;33m\u001b[0m\u001b[0m\n\u001b[0;32m     15\u001b[0m \u001b[1;32mclass\u001b[0m \u001b[0mSchistoPredict\u001b[0m\u001b[1;33m(\u001b[0m\u001b[0mApp\u001b[0m\u001b[1;33m)\u001b[0m\u001b[1;33m:\u001b[0m\u001b[1;33m\u001b[0m\u001b[1;33m\u001b[0m\u001b[0m\n\u001b[1;32m---> 16\u001b[1;33m         \u001b[0mpressed\u001b[0m \u001b[1;33m=\u001b[0m \u001b[0mprediction\u001b[0m\u001b[1;33m\u001b[0m\u001b[1;33m\u001b[0m\u001b[0m\n\u001b[0m\u001b[0;32m     17\u001b[0m \u001b[1;33m\u001b[0m\u001b[0m\n\u001b[0;32m     18\u001b[0m         \u001b[1;32mdef\u001b[0m \u001b[0mon_touch_down\u001b[0m\u001b[1;33m(\u001b[0m\u001b[0mself\u001b[0m\u001b[1;33m,\u001b[0m \u001b[0mtouch\u001b[0m\u001b[1;33m)\u001b[0m\u001b[1;33m:\u001b[0m\u001b[1;33m\u001b[0m\u001b[1;33m\u001b[0m\u001b[0m\n",
      "\u001b[1;31mNameError\u001b[0m: name 'prediction' is not defined"
     ]
    }
   ],
   "source": [
    "import cProfile\n",
    "class MyApp(App):\n",
    "def on_start(self):\n",
    "    self.profile = cProfile.Profile()\n",
    "    self.profile.enable()\n",
    "def on_stop(self):\n",
    "    self.profile.disable()\n",
    "    self.profile.dump_stats('myapp.profile')\n",
    "\n",
    "class PredictionModel(Widget):\n",
    "   \n",
    "    def __init__(self, **kwargs):\n",
    "        super(PredictionModel, self).__init__(**kwargs)\n",
    "        \n",
    "        self.orientation = \"vertical\"\n",
    "\n",
    "        self.add_widget(Label(text= 'schistodata'))\n",
    "        self.schistodata = TextInput(text = 'schistodata', multiline = False)\n",
    "        self.add_widget(self.schistodata)\n",
    "        self.add_widget(Button(text = 'SchistoPredict'))\n",
    "        sb = self.Button()\n",
    "        sb.bind(pressed = self.btn_pressed)\n",
    "        self.add_widget(self.sb)\n",
    "        \n",
    "class SchistoPredict(App):\n",
    "        pressed = prediction\n",
    "        \n",
    "        def on_touch_down(self, touch):\n",
    "            if self.collide.point(*touch.pos):\n",
    "                self.pressed = touch.pos\n",
    "                return True\n",
    "            return super(SchistoPredict, self).on_touch_down(touch)\n",
    "        def on_pressed(self, instance, pos):\n",
    "            return pressed\n",
    "\n",
    "\n",
    "\n",
    "class MyApp(App):\n",
    "    def build(self):\n",
    "        return PredictionModel\n",
    "        \n",
    "if __name__ == '__main__':\n",
    "    PredictionModel().run()"
   ]
  }
 ]
}