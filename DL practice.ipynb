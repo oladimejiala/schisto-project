{
 "metadata": {
  "language_info": {
   "codemirror_mode": {
    "name": "ipython",
    "version": 3
   },
   "file_extension": ".py",
   "mimetype": "text/x-python",
   "name": "python",
   "nbconvert_exporter": "python",
   "pygments_lexer": "ipython3",
   "version": "3.7.6-final"
  },
  "orig_nbformat": 2,
  "kernelspec": {
   "name": "python3",
   "display_name": "Python 3",
   "language": "python"
  }
 },
 "nbformat": 4,
 "nbformat_minor": 2,
 "cells": [
  {
   "cell_type": "code",
   "execution_count": 29,
   "metadata": {},
   "outputs": [],
   "source": [
    "from tensorflow import keras\n",
    "keras.activations.sigmoid\n",
    "keras.optimizers.Adam()\n",
    "keras.activations.relu\n",
    "keras.metrics.binary_accuracy\n",
    "keras.metrics.categorical_accuracy\n",
    "keras.metrics.sparse_categorical_accuracy\n",
    "\n",
    "#model\n",
    "model = keras.models.Sequential()\n",
    "Dense = keras.layers.Dense\n",
    "Activation = keras.layers.Activation\n",
    "\n",
    "model.add(Dense(10, input_dim=15))\n",
    "model.add(Activation('relu'))\n",
    "\n",
    "\n"
   ]
  }
 ]
}