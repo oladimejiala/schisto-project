{
 "cells": [
  {
   "cell_type": "code",
   "execution_count": null,
   "metadata": {},
   "outputs": [],
   "source": [
    "# Creating a kivy application is as simple as:\n",
    "# • sub-classing the App class\n",
    "# • implementing its build() method so it returns a Widget instance (the root of your widget tree)\n",
    "# • instantiating this class, and calling its run() method.\n",
    "import kivy\n",
    "from kivy.app import App\n",
    "from kivy.uix.widget import Widget\n",
    "from kivy.uix.label import Label\n",
    "\n",
    "\n",
    "class MyApp(App):\n",
    "    \n",
    "    def build(self):\n",
    "        return Label(text= 'Hello world')\n",
    "\n",
    "\n",
    "if __name__ == '__main__':\n",
    "    MyApp().run()"
   ]
  },
  {
   "cell_type": "code",
   "execution_count": 88,
   "metadata": {},
   "outputs": [
    {
     "name": "stdout",
     "output_type": "stream",
     "text": [
      "True\n"
     ]
    }
   ],
   "source": [
    "# these are simply setting the app environment\n",
    "import os\n",
    "from kivy.config import Config\n",
    "os.environ['KIVY_USE_DEFAULTCONFIG'] = ''\n",
    "os.environ['KIVY_TEXT'] = 'pil'\n",
    "os.environ['KIVY_HOME'] = 'my_kivy_project'\n",
    "os.environ['HOME_DIRECTORY'] = 'http://localhost:8888/notebooks/anaconda3/envs/Untitled%20Folder/KivyProject.ipynb\\\\.kivy\\\\config.ini'\n",
    "os.environ['KIVY_VIDEO'] = 'ffmpeg'\n",
    "os.environ['KIVY_AUDIO'] = 'sdl2'\n",
    "os.environ['KIVY_IMAGE'] = 'sdl2'\n",
    "os.environ['KIVY_GL_BACKEND'] = 'sdl2'\n",
    "os.environ['KIVY_GRAPHICS'] = 'gles' #KIVY_GRAPHICS – Forces OpenGL ES2 when it is gles. OpenGL ES2 is always used on the android, ios, rpi, and mali OSs.\n",
    "os.environ['KIVY_BCM_DISPMANX_LAYER'] = '0'\n",
    "os.environ['KIVY_EVENTLOOP'] = 'asyncio'\n",
    "os.environ['KIVY_NO_FILELOG'] = \"1\"\n",
    "# this is meant to set the android app path os.environ[<ANDROID_APP_PATH>/.kivy/config.ini]\n",
    "# for instance if the app is named org.kivy.launcher the file will be like /data/data/org.kivy.launcher/files/.kivy/config.ini\n",
    "# On iOS, this defaults to:\n",
    "#<HOME_DIRECTORY>/Documents/.kivy/config.ini\n",
    "import kivy\n",
    "\n",
    "\n",
    "# to create new input device use this syntax:\n",
    "# yourid = providerid, parameters\n",
    "# default = tuio, 127.0.0.1:3333\n",
    "# mytable = tuio, 192.168.0.1:3333\n",
    "from kivy.uix.widget import Widget\n",
    "\n",
    "# the rule of building widget is as follows\n",
    "mywidget = Widget()\n",
    "mywidget.create_property('custom')\n",
    "mywidget.custom = True\n",
    "print(mywidget.custom)"
   ]
  },
  {
   "cell_type": "code",
   "execution_count": 90,
   "metadata": {},
   "outputs": [],
   "source": [
    "#Just a box layout teemplate \n",
    "from kivy.uix.boxlayout import BoxLayout\n",
    "class DemoBox(BoxLayout):\n",
    "    def __init__(self, **kwargs):\n",
    "        super(DemoBox, self).__init__(**kwargs)\n",
    "        self.orientation = \"vertical\"\n",
    "        btn = Button(text=\"Normal binding to event\")\n",
    "        btn.fbind('on_press', self.on_event)\n",
    "        btn2 = Button(text=\"Normal binding to a property change\")\n",
    "        btn2.fbind('state', self.on_property)\n",
    "        btn3 = Button(text=\"A: Using function with args.\")\n",
    "        btn3.fbind('on_press', self.on_event_with_args, 'right',\n",
    "                   tree='birch', food='apple')\n",
    "        btn4 = Button(text=\"Unbind A.\")\n",
    "        btn4.fbind('on_press', self.unbind_a, btn3)\n",
    "        btn5 = Button(text=\"Use a flexible function\")\n",
    "        btn5.fbind('on_press', self.on_anything)\n",
    "        btn6 = Button(text=\"B: Using flexible functions with args. For,!hardcores.\")\n",
    "        btn6.fbind('on_press', self.on_anything, \"1\", \"2\", monthy=\"python,!\")\n",
    "        btn7 = Button(text=\"Force dispatch B with different params\")\n",
    "        btn7.fbind('on_press', btn6.dispatch, 'on_press', 6, 7, monthy=\"other python\")\n",
    "    "
   ]
  },
  {
   "cell_type": "code",
   "execution_count": 103,
   "metadata": {},
   "outputs": [],
   "source": [
    "from kivy.uix.slider import Slider\n",
    "from kivy import uix\n",
    "from kivy.uix.relativelayout import RelativeLayout\n",
    "# you can also nestyour layouts\n",
    "\n",
    "# touch events is initiated by Touch() for instance\n",
    "def on_touch_down( self, touch): # this is analogous for movve-up\n",
    "    for child in self.children[:]:\n",
    "        if child.dispatch('on_touch_down, touch'):\n",
    "            return True\n",
    "        \n",
    "        "
   ]
  },
  {
   "cell_type": "code",
   "execution_count": 110,
   "metadata": {},
   "outputs": [],
   "source": [
    "#events plays key role in They make it easy to build whatever behavior you want into Kivy.\n",
    "# event dispatchers such as widget, animation and clock classes are one of the most important event dispatchers. they depend on the main loop to generate and handle events\n",
    "\n",
    "#main Loop e.g runs during all of the application's lifetime and only quits when exiting the application\n",
    "while True:\n",
    "    animate_something()\n",
    "    time.sleep(.10)"
   ]
  },
  {
   "cell_type": "code",
   "execution_count": 114,
   "metadata": {
    "scrolled": true
   },
   "outputs": [
    {
     "ename": "ModuleNotFoundError",
     "evalue": "No module named 'kivy.uix.clock'",
     "output_type": "error",
     "traceback": [
      "\u001b[1;31m---------------------------------------------------------------------------\u001b[0m",
      "\u001b[1;31mModuleNotFoundError\u001b[0m                       Traceback (most recent call last)",
      "\u001b[1;32m<ipython-input-114-db41f04c4142>\u001b[0m in \u001b[0;36m<module>\u001b[1;34m\u001b[0m\n\u001b[1;32m----> 1\u001b[1;33m \u001b[1;32mfrom\u001b[0m \u001b[0mkivy\u001b[0m\u001b[1;33m.\u001b[0m\u001b[0muix\u001b[0m\u001b[1;33m.\u001b[0m\u001b[0mclock\u001b[0m \u001b[1;32mimport\u001b[0m \u001b[0mClock\u001b[0m\u001b[1;33m\u001b[0m\u001b[1;33m\u001b[0m\u001b[0m\n\u001b[0m\u001b[0;32m      2\u001b[0m \u001b[0mcount\u001b[0m \u001b[1;33m=\u001b[0m \u001b[1;36m0\u001b[0m\u001b[1;33m\u001b[0m\u001b[1;33m\u001b[0m\u001b[0m\n\u001b[0;32m      3\u001b[0m \u001b[1;32mdef\u001b[0m \u001b[0mmy_callBack\u001b[0m\u001b[1;33m(\u001b[0m\u001b[0mdt\u001b[0m\u001b[1;33m)\u001b[0m\u001b[1;33m:\u001b[0m\u001b[1;33m\u001b[0m\u001b[1;33m\u001b[0m\u001b[0m\n\u001b[0;32m      4\u001b[0m     \u001b[1;32mglobal\u001b[0m \u001b[0mcount\u001b[0m\u001b[1;33m\u001b[0m\u001b[1;33m\u001b[0m\u001b[0m\n\u001b[0;32m      5\u001b[0m     \u001b[0mcount\u001b[0m \u001b[1;33m+=\u001b[0m \u001b[1;36m1\u001b[0m\u001b[1;33m\u001b[0m\u001b[1;33m\u001b[0m\u001b[0m\n",
      "\u001b[1;31mModuleNotFoundError\u001b[0m: No module named 'kivy.uix.clock'"
     ]
    }
   ],
   "source": [
    "from kivy.uix.clock import Clock\n",
    "count = 0\n",
    "def my_callBack(dt):\n",
    "    global count\n",
    "    count += 1\n",
    "    if count == 10:\n",
    "        print ('Last call of my callback, bye!')\n",
    "        return False\n",
    "    print ('My callback is called')\n",
    "Clock.schedule_interval(my_callBack, 1/30)"
   ]
  },
  {
   "cell_type": "code",
   "execution_count": 127,
   "metadata": {},
   "outputs": [],
   "source": [
    "from kivy import uix\n",
    "from kivy.uix.behaviors import ButtonBehavior\n"
   ]
  },
  {
   "cell_type": "code",
   "execution_count": 129,
   "metadata": {},
   "outputs": [
    {
     "ename": "NameError",
     "evalue": "name 'EventDispatcher' is not defined",
     "output_type": "error",
     "traceback": [
      "\u001b[1;31m---------------------------------------------------------------------------\u001b[0m",
      "\u001b[1;31mNameError\u001b[0m                                 Traceback (most recent call last)",
      "\u001b[1;32m<ipython-input-129-1e6824af6b11>\u001b[0m in \u001b[0;36m<module>\u001b[1;34m\u001b[0m\n\u001b[1;32m----> 1\u001b[1;33m \u001b[1;32mclass\u001b[0m \u001b[0mMyEventDispatcher\u001b[0m\u001b[1;33m(\u001b[0m\u001b[0mEventDispatcher\u001b[0m\u001b[1;33m)\u001b[0m\u001b[1;33m:\u001b[0m\u001b[1;33m\u001b[0m\u001b[1;33m\u001b[0m\u001b[0m\n\u001b[0m\u001b[0;32m      2\u001b[0m     \u001b[1;32mdef\u001b[0m \u001b[0m__init__\u001b[0m\u001b[1;33m(\u001b[0m\u001b[0mself\u001b[0m\u001b[1;33m,\u001b[0m \u001b[1;33m**\u001b[0m\u001b[0mkwargs\u001b[0m\u001b[1;33m)\u001b[0m\u001b[1;33m:\u001b[0m\u001b[1;33m\u001b[0m\u001b[1;33m\u001b[0m\u001b[0m\n\u001b[0;32m      3\u001b[0m         \u001b[0mself\u001b[0m\u001b[1;33m.\u001b[0m\u001b[0mregister_event_type\u001b[0m\u001b[1;33m(\u001b[0m\u001b[1;34m'on_test'\u001b[0m\u001b[1;33m)\u001b[0m\u001b[1;33m\u001b[0m\u001b[1;33m\u001b[0m\u001b[0m\n\u001b[0;32m      4\u001b[0m         \u001b[0msuper\u001b[0m\u001b[1;33m(\u001b[0m\u001b[0mMyEventDispatcher\u001b[0m\u001b[1;33m,\u001b[0m \u001b[0mself\u001b[0m\u001b[1;33m)\u001b[0m\u001b[1;33m.\u001b[0m\u001b[0m__init__\u001b[0m\u001b[1;33m(\u001b[0m\u001b[1;33m**\u001b[0m\u001b[0mkwargs\u001b[0m\u001b[1;33m)\u001b[0m\u001b[1;33m\u001b[0m\u001b[1;33m\u001b[0m\u001b[0m\n\u001b[0;32m      5\u001b[0m     \u001b[1;32mdef\u001b[0m \u001b[0mdo_something\u001b[0m\u001b[1;33m(\u001b[0m\u001b[0mself\u001b[0m\u001b[1;33m,\u001b[0m \u001b[0mvalue\u001b[0m\u001b[1;33m)\u001b[0m\u001b[1;33m:\u001b[0m\u001b[1;33m\u001b[0m\u001b[1;33m\u001b[0m\u001b[0m\n",
      "\u001b[1;31mNameError\u001b[0m: name 'EventDispatcher' is not defined"
     ]
    }
   ],
   "source": [
    "class MyEventDispatcher(EventDispatcher):\n",
    "    def __init__(self, **kwargs):\n",
    "        self.register_event_type('on_test')\n",
    "        super(MyEventDispatcher, self).__init__(**kwargs)\n",
    "    def do_something(self, value):\n",
    "        # when do_something is called, the 'on_test' event will be\n",
    "        # dispatched with the value\n",
    "        self.dispatch('on_test', value)\n",
    "    def on_test(self, *args):\n",
    "            print (\"I am dispatched\", args)\n",
    "    def my_callback(value, *args):\n",
    "        print (\"hello, i got an event!\", args)\n",
    "        \n",
    "        \n",
    "    ev = MyEventDispatcher()"
   ]
  }
 ],
 "metadata": {
  "kernelspec": {
   "display_name": "Python 3",
   "language": "python",
   "name": "python3"
  },
  "language_info": {
   "codemirror_mode": {
    "name": "ipython",
    "version": 3
   },
   "file_extension": ".py",
   "mimetype": "text/x-python",
   "name": "python",
   "nbconvert_exporter": "python",
   "pygments_lexer": "ipython3",
   "version": "3.7.6"
  }
 },
 "nbformat": 4,
 "nbformat_minor": 4
}
